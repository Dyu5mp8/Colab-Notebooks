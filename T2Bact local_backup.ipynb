{
 "cells": [
  {
   "cell_type": "markdown",
   "id": "dc862680-32fe-442f-b542-776665b07569",
   "metadata": {
    "editable": true,
    "slideshow": {
     "slide_type": ""
    },
    "tags": []
   },
   "source": [
    "# T2 bacteria study"
   ]
  },
  {
   "cell_type": "markdown",
   "id": "2f156889-e21c-4cee-a72f-1c2738eb391d",
   "metadata": {},
   "source": [
    "## Reload function"
   ]
  },
  {
   "cell_type": "code",
   "execution_count": null,
   "id": "be46b3ab-c691-4a35-af3a-9997032461bb",
   "metadata": {
    "editable": true,
    "slideshow": {
     "slide_type": ""
    },
    "tags": []
   },
   "outputs": [],
   "source": [
    "%load_ext autoreload"
   ]
  },
  {
   "cell_type": "code",
   "execution_count": null,
   "id": "ada66328",
   "metadata": {},
   "outputs": [],
   "source": []
  },
  {
   "cell_type": "code",
   "execution_count": null,
   "id": "588a30d0-d603-40eb-bdf1-8db594991092",
   "metadata": {
    "editable": true,
    "slideshow": {
     "slide_type": ""
    },
    "tags": []
   },
   "outputs": [],
   "source": [
    "%autoreload 2"
   ]
  },
  {
   "cell_type": "markdown",
   "id": "690a536a-64ac-470c-8017-11ad215503b4",
   "metadata": {
    "editable": true,
    "slideshow": {
     "slide_type": ""
    },
    "tags": []
   },
   "source": [
    "## Imports"
   ]
  },
  {
   "cell_type": "code",
   "execution_count": null,
   "id": "5c326351-8e95-41ec-804c-050c9e9d3e6d",
   "metadata": {
    "editable": true,
    "slideshow": {
     "slide_type": ""
    },
    "tags": []
   },
   "outputs": [],
   "source": [
    "import pandas as pd\n",
    "from typing import List, Dict, Set\n",
    "from datetime import datetime\n",
    "from models import Isolate, Sample, BC_Sample, T2_Sample, Episode, Patient\n",
    "import loader as load\n",
    "import episodeloader as epi\n",
    "from Displayer import Displayer\n",
    "from Plotter import Plotter\n",
    "import re\n",
    "import utils as utils\n",
    "\n",
    "import numpy as np\n",
    "import seaborn as sns\n",
    "import matplotlib.pyplot as plt \n",
    "import scipy.stats as stats \n",
    "from matplotlib.ticker import PercentFormatter\n",
    "\n",
    "\n"
   ]
  },
  {
   "cell_type": "markdown",
   "id": "39bd06d5-ad64-49aa-99ea-a9b8e29a3e46",
   "metadata": {
    "editable": true,
    "slideshow": {
     "slide_type": ""
    },
    "tags": []
   },
   "source": [
    "## import data from files"
   ]
  },
  {
   "cell_type": "code",
   "execution_count": null,
   "id": "54b2e420-5e23-41c7-8c62-dacb5f584ffc",
   "metadata": {
    "editable": true,
    "slideshow": {
     "slide_type": ""
    },
    "tags": []
   },
   "outputs": [],
   "source": [
    "df_CC = load.from_excel('T2bakt_CC.xlsx')"
   ]
  },
  {
   "cell_type": "code",
   "execution_count": null,
   "id": "7f286091-8558-485a-9e0c-b7c944fa6cb4",
   "metadata": {
    "editable": true,
    "slideshow": {
     "slide_type": ""
    },
    "tags": []
   },
   "outputs": [],
   "source": [
    "df_AP = load.from_excel('T2bakt_AP.xlsx')"
   ]
  },
  {
   "cell_type": "code",
   "execution_count": null,
   "id": "42ad2f53-cfaf-4a9f-81c2-eeca0fcf507a",
   "metadata": {
    "editable": true,
    "slideshow": {
     "slide_type": ""
    },
    "tags": []
   },
   "outputs": [],
   "source": [
    "df_other = load.from_excel('T2bakt_other.xlsx')"
   ]
  },
  {
   "cell_type": "code",
   "execution_count": null,
   "id": "08288f5a-83ca-45b6-acab-1732347bf5fe",
   "metadata": {
    "editable": true,
    "slideshow": {
     "slide_type": ""
    },
    "tags": []
   },
   "outputs": [],
   "source": [
    "df_AP_times = load.from_excel('T2_bakt_AP_times.xlsx')"
   ]
  },
  {
   "cell_type": "code",
   "execution_count": null,
   "id": "bbc141a9-f262-4fad-adfa-1b56389dd49e",
   "metadata": {
    "editable": true,
    "slideshow": {
     "slide_type": ""
    },
    "tags": []
   },
   "outputs": [],
   "source": [
    "df_CC_times = load.from_excel('T2_bakt_CC_times.xlsx')\n"
   ]
  },
  {
   "cell_type": "code",
   "execution_count": null,
   "id": "9d9494d4-289b-4410-b00d-0db1044de293",
   "metadata": {},
   "outputs": [],
   "source": [
    "df_id_times = load.from_excel('positive_bc_timestamps.xlsx')"
   ]
  },
  {
   "cell_type": "markdown",
   "id": "ea6ecd7f-e696-4045-b3bc-afe601b71a3d",
   "metadata": {
    "editable": true,
    "slideshow": {
     "slide_type": ""
    },
    "tags": []
   },
   "source": [
    "### Main dataframes"
   ]
  },
  {
   "cell_type": "code",
   "execution_count": null,
   "id": "bfac1a3b-7b9d-45df-a56d-246c1a4b91e6",
   "metadata": {
    "editable": true,
    "slideshow": {
     "slide_type": ""
    },
    "tags": []
   },
   "outputs": [],
   "source": [
    "dfs_toload = df_AP, df_CC, df_other"
   ]
  },
  {
   "cell_type": "markdown",
   "id": "72575677-b058-4517-a8d6-f83279f19a2c",
   "metadata": {
    "editable": true,
    "slideshow": {
     "slide_type": ""
    },
    "tags": []
   },
   "source": [
    "### Dataframes with times"
   ]
  },
  {
   "cell_type": "code",
   "execution_count": null,
   "id": "2be9b46f-bfde-417b-b0d8-81df5c208012",
   "metadata": {
    "editable": true,
    "slideshow": {
     "slide_type": ""
    },
    "tags": []
   },
   "outputs": [],
   "source": [
    "dfs_times = df_AP_times, df_CC_times"
   ]
  },
  {
   "cell_type": "markdown",
   "id": "56e41fe2-3b49-462c-85c9-165ad11c8953",
   "metadata": {
    "editable": true,
    "slideshow": {
     "slide_type": ""
    },
    "tags": []
   },
   "source": [
    "### Load dataframe into patient objects"
   ]
  },
  {
   "cell_type": "code",
   "execution_count": null,
   "id": "e94d773d-7292-4be6-a4a1-bd4fce86d3a2",
   "metadata": {
    "editable": true,
    "slideshow": {
     "slide_type": ""
    },
    "tags": []
   },
   "outputs": [],
   "source": [
    "patients = load.patients_list(dfs_toload, dfs_times, df_id_times)"
   ]
  },
  {
   "cell_type": "code",
   "execution_count": null,
   "id": "dfa918f9",
   "metadata": {},
   "outputs": [],
   "source": [
    "### config time frames: \n",
    "\n",
    "bc_window = 72\n",
    "other_sample_window = 72\n",
    "cooldown_days = 7"
   ]
  },
  {
   "cell_type": "code",
   "execution_count": null,
   "id": "4a147f6e-6c72-4763-a9e6-26f27bc973d5",
   "metadata": {
    "editable": true,
    "slideshow": {
     "slide_type": ""
    },
    "tags": []
   },
   "outputs": [],
   "source": [
    "epi.create_episodes(patients, bc_window = bc_window, other_sample_window = other_sample_window, direction=\"both\")"
   ]
  },
  {
   "cell_type": "markdown",
   "id": "d785d3e8-5d23-4acf-b7a6-4e5044daf5a6",
   "metadata": {
    "editable": true,
    "slideshow": {
     "slide_type": ""
    },
    "tags": []
   },
   "source": [
    "## Exclusions (returns patients or episodes that are excluded"
   ]
  },
  {
   "cell_type": "code",
   "execution_count": null,
   "id": "0885f71b-668b-4f23-9258-f15e74981af0",
   "metadata": {
    "editable": true,
    "slideshow": {
     "slide_type": ""
    },
    "tags": []
   },
   "outputs": [],
   "source": [
    "excluded_recurrent_episodes = epi.exclude_recurrent_episodes(patients,cooldown_days)"
   ]
  },
  {
   "cell_type": "code",
   "execution_count": null,
   "id": "4a2258ca-47c0-4f7c-b57b-87d3bbb90b0a",
   "metadata": {},
   "outputs": [],
   "source": [
    "excluded_invalidT2_episodes = epi.exclude_invalid_episodes(patients)"
   ]
  },
  {
   "cell_type": "code",
   "execution_count": null,
   "id": "23468985-833a-434c-a342-8de107e7b719",
   "metadata": {
    "editable": true,
    "slideshow": {
     "slide_type": ""
    },
    "tags": []
   },
   "outputs": [],
   "source": [
    "empty_excluded = epi.exclude_empty_episodes(patients)"
   ]
  },
  {
   "cell_type": "code",
   "execution_count": null,
   "id": "8d06733e-27f5-4569-8a37-2b244355322d",
   "metadata": {
    "editable": true,
    "slideshow": {
     "slide_type": ""
    },
    "tags": []
   },
   "outputs": [],
   "source": [
    "patients_without_valid_episodes = epi.exclude_patients(patients)"
   ]
  },
  {
   "cell_type": "markdown",
   "id": "473039ac-7105-4bf4-9b2c-c6504be31ce3",
   "metadata": {
    "editable": true,
    "slideshow": {
     "slide_type": ""
    },
    "tags": []
   },
   "source": [
    "## Create Displayer for tabular data"
   ]
  },
  {
   "cell_type": "code",
   "execution_count": null,
   "id": "1169c932-3444-4155-8c30-bb7d568f4ea6",
   "metadata": {
    "editable": true,
    "slideshow": {
     "slide_type": ""
    },
    "tags": []
   },
   "outputs": [],
   "source": [
    "displayer = Displayer(patients)"
   ]
  },
  {
   "cell_type": "code",
   "execution_count": null,
   "id": "7841d37b-5e99-463a-bacb-8b117458941f",
   "metadata": {
    "editable": true,
    "slideshow": {
     "slide_type": ""
    },
    "tags": []
   },
   "outputs": [],
   "source": [
    "plotter = displayer.get_plotter()"
   ]
  },
  {
   "cell_type": "code",
   "execution_count": null,
   "id": "f8a81dc6-5664-479b-880d-0bd3887abb19",
   "metadata": {},
   "outputs": [],
   "source": [
    "displayer.tat_df()"
   ]
  },
  {
   "cell_type": "markdown",
   "id": "abb1bd4b-a37c-49eb-a325-f3e109d50d76",
   "metadata": {
    "editable": true,
    "slideshow": {
     "slide_type": ""
    },
    "tags": []
   },
   "source": [
    "## Results"
   ]
  },
  {
   "cell_type": "markdown",
   "id": "d7931d78-eda4-4302-9b4a-280473e98cef",
   "metadata": {},
   "source": [
    "i = 0\n",
    "cool_down = 7\n",
    "for i in range(0,15):\n",
    "    print(i*24)\n",
    "    patients = load.patients_list(dfs_toload, dfs_times)\n",
    "    epi.create_episodes(patients, bc_window = (i * 24), other_sample_window = (i*24), direction=\"both\")\n",
    "    excluded_recurrent_episodes = epi.exclude_recurrent_episodes(patients, cool_down)\n",
    "    excluded_invalidT2_episodes = epi.exclude_invalid_episodes(patients)\n",
    "    empty_excluded = epi.exclude_empty_episodes(patients)\n",
    "    patients_without_valid_episodes = epi.exclude_patients(patients)\n",
    "    displayer = Displayer(patients)\n",
    "    displayer.episode_classification(\"BC_IN_PANEL\") \n",
    "    i += 1\n",
    "    if i>3:\n",
    "        cool_down = i*2\n",
    "    \n",
    "\n"
   ]
  },
  {
   "cell_type": "code",
   "execution_count": null,
   "id": "58bd6320-50d0-4903-9003-284525330811",
   "metadata": {
    "editable": true,
    "slideshow": {
     "slide_type": ""
    },
    "tags": []
   },
   "outputs": [],
   "source": [
    "displayer.display_most_common_bacteria_in_episodes(is_t2included = False)"
   ]
  },
  {
   "cell_type": "code",
   "execution_count": null,
   "id": "4f9ae132-9759-43e3-8442-735826de6659",
   "metadata": {},
   "outputs": [],
   "source": [
    "displayer.get_mean_time_between_samples() #between t2 and bc"
   ]
  },
  {
   "cell_type": "code",
   "execution_count": null,
   "id": "3dbeeb82-a5f7-420a-ab3e-7fb8e450e479",
   "metadata": {
    "editable": true,
    "scrolled": true,
    "slideshow": {
     "slide_type": ""
    },
    "tags": []
   },
   "outputs": [],
   "source": [
    "displayer.display_aggregate_data() ### Demographic data"
   ]
  },
  {
   "cell_type": "code",
   "execution_count": null,
   "id": "724815fd-8f30-4b28-911b-0d79e88aad1e",
   "metadata": {},
   "outputs": [],
   "source": [
    "displayer.get_other_sample_locales(group = \"all\")"
   ]
  },
  {
   "cell_type": "code",
   "execution_count": null,
   "id": "a4c1b99b-3b5a-4744-9eb1-476884b1a4cd",
   "metadata": {},
   "outputs": [],
   "source": [
    "displayer.get_other_sample_locales(group = \"t2neg_bcpos\")"
   ]
  },
  {
   "cell_type": "code",
   "execution_count": null,
   "id": "1d671e8a-6383-4fd1-ba22-1e1b07e11b99",
   "metadata": {},
   "outputs": [],
   "source": [
    "displayer.get_other_sample_locales(group = \"t2pos_bcneg\")"
   ]
  },
  {
   "cell_type": "code",
   "execution_count": null,
   "id": "1d5e130f-6a4a-43e9-aea2-cab366435e94",
   "metadata": {
    "editable": true,
    "slideshow": {
     "slide_type": ""
    },
    "tags": []
   },
   "outputs": [],
   "source": [
    "displayer.display_all_patients()"
   ]
  },
  {
   "cell_type": "code",
   "execution_count": null,
   "id": "31e4e738-6c1d-413d-a758-c5e2a51f7d12",
   "metadata": {},
   "outputs": [],
   "source": [
    "displayer.display_specific_isolates(\"Pseudomonas aeruginosa\")"
   ]
  },
  {
   "cell_type": "code",
   "execution_count": null,
   "id": "a275f9c1-8279-471c-81fc-a21d3dcfaa39",
   "metadata": {},
   "outputs": [],
   "source": [
    "displayer.count_polymicrobials(\"bc\")"
   ]
  },
  {
   "cell_type": "code",
   "execution_count": null,
   "id": "a372573d-94db-492a-93bc-c0b6971fbdc5",
   "metadata": {},
   "outputs": [],
   "source": [
    "displayer.calculate_sensitivity_specificity()"
   ]
  },
  {
   "cell_type": "code",
   "execution_count": null,
   "id": "3a85b978-7de7-499a-87f2-6deb5cc0572f",
   "metadata": {
    "editable": true,
    "slideshow": {
     "slide_type": ""
    },
    "tags": []
   },
   "outputs": [],
   "source": [
    "displayer.positivity_count() "
   ]
  },
  {
   "cell_type": "code",
   "execution_count": null,
   "id": "f4f3c764-2fa8-4c16-a0e6-3ec765a56b0f",
   "metadata": {},
   "outputs": [],
   "source": []
  },
  {
   "cell_type": "code",
   "execution_count": null,
   "id": "821109f1-0588-4a31-9208-fdee0b4cbf9b",
   "metadata": {},
   "outputs": [],
   "source": [
    "displayer.calculate_sensitivity_specificity_bacteria()\n"
   ]
  },
  {
   "cell_type": "code",
   "execution_count": null,
   "id": "fcd19d81-8e8c-4af4-922f-4b11c6a9e5c2",
   "metadata": {},
   "outputs": [],
   "source": [
    "52/(3297+41+29+23)"
   ]
  },
  {
   "cell_type": "code",
   "execution_count": null,
   "id": "84cb5a5d-23c3-49fe-8bc3-a6131b3b451a",
   "metadata": {},
   "outputs": [],
   "source": [
    "displayer.display_specific_isolates(isolate_name = \"Staphylococcus aureus\")"
   ]
  },
  {
   "cell_type": "code",
   "execution_count": null,
   "id": "61f9d95e-775f-4a82-9074-897007773545",
   "metadata": {
    "editable": true,
    "slideshow": {
     "slide_type": ""
    },
    "tags": []
   },
   "outputs": [],
   "source": [
    "displayer.episode_classification(\"ALL_BC\") "
   ]
  },
  {
   "cell_type": "code",
   "execution_count": null,
   "id": "68b3e850-a770-4a30-858d-86b1834d274f",
   "metadata": {
    "editable": true,
    "slideshow": {
     "slide_type": ""
    },
    "tags": []
   },
   "outputs": [],
   "source": [
    "displayer.episode_classification(\"BC_IN_PANEL\") "
   ]
  },
  {
   "cell_type": "code",
   "execution_count": null,
   "id": "70a24350-0e8a-465f-9627-8aa810948f8d",
   "metadata": {},
   "outputs": [],
   "source": [
    "df_poly_out_of_panel= displayer.polymicrobial_not_only_panel()"
   ]
  },
  {
   "cell_type": "code",
   "execution_count": null,
   "id": "199e114d-7778-4b42-86ee-4f42b449cab7",
   "metadata": {},
   "outputs": [],
   "source": [
    "df_poly_out_of_panel.to_excel(\"polymicrobial_episodes.xlsx\", index=False)"
   ]
  },
  {
   "cell_type": "code",
   "execution_count": null,
   "id": "3399b5ff-c211-4cd1-ad68-1d5baa2ec414",
   "metadata": {
    "editable": true,
    "slideshow": {
     "slide_type": ""
    },
    "tags": []
   },
   "outputs": [],
   "source": [
    "displayer.discordant_results(\"BC_IN_PANEL\", \"T2_POS_COMPARISON_NEG\")"
   ]
  },
  {
   "cell_type": "code",
   "execution_count": null,
   "id": "58611ea8-6711-4fd5-b3fb-566c206b6d82",
   "metadata": {
    "editable": true,
    "slideshow": {
     "slide_type": ""
    },
    "tags": []
   },
   "outputs": [],
   "source": [
    "displayer.tat() ## Get turnaround times"
   ]
  },
  {
   "cell_type": "code",
   "execution_count": null,
   "id": "cc7ab37a-04bf-48c7-87b8-c85c88a6b22f",
   "metadata": {
    "editable": true,
    "slideshow": {
     "slide_type": ""
    },
    "tags": []
   },
   "outputs": [],
   "source": [
    "displayer.discordant_check_other_samples() ## Shows cases where T2 pos, BC neg, and other samples shares at least one T2 isolate element with T2."
   ]
  },
  {
   "cell_type": "code",
   "execution_count": null,
   "id": "b69e308a",
   "metadata": {},
   "outputs": [],
   "source": []
  },
  {
   "cell_type": "code",
   "execution_count": null,
   "id": "1401659c",
   "metadata": {},
   "outputs": [],
   "source": [
    "for episode in episodes:\n",
    "    episode.display()"
   ]
  },
  {
   "cell_type": "markdown",
   "id": "5a98f02f",
   "metadata": {},
   "source": [
    "## Difference in concordance/discordance depending on time"
   ]
  },
  {
   "cell_type": "code",
   "execution_count": null,
   "id": "ccd42ed7",
   "metadata": {},
   "outputs": [],
   "source": [
    "samples= displayer.samples"
   ]
  },
  {
   "cell_type": "code",
   "execution_count": null,
   "id": "a73d9561",
   "metadata": {},
   "outputs": [],
   "source": [
    "episodes = displayer.episodes.values()\n"
   ]
  },
  {
   "cell_type": "code",
   "execution_count": null,
   "id": "1df6dc3f",
   "metadata": {},
   "outputs": [],
   "source": [
    "concordance=[]\n",
    "time_diff=[]\n",
    "\n",
    "for episode in episodes:\n",
    "    for bc_sample in episode.bc_samples:\n",
    "        time_diff_h = abs(bc_sample.sample_date-episode.t2_sample.sample_date).total_seconds()/3600\n",
    "        conc = bc_sample.get_t2panel_isolates() == episode.t2_sample.isolates\n",
    "        concordance.append(conc)\n",
    "        time_diff.append(time_diff_h)"
   ]
  },
  {
   "cell_type": "code",
   "execution_count": null,
   "id": "4a35b405",
   "metadata": {},
   "outputs": [],
   "source": [
    "import pandas as pd\n",
    "episode_types = []\n",
    "t2_isolates = []\n",
    "bc_isolates = []\n",
    "bc_numbers = []\n",
    "other_numbers = []\n",
    "other_isolates = []\n",
    "\n",
    "for episode in episodes:\n",
    "    if episode.classify(compare_with= \"BC_IN_PANEL\") == \"T2_POS_COMPARISON_NEG\":\n",
    "        episode_types.append(\"T2 pos, BC neg\")\n",
    "    elif episode.classify(compare_with= \"BC_IN_PANEL\") == \"T2_NEG_COMPARISON_POS\":\n",
    "        episode_types.append(\"T2 neg, BC pos\")\n",
    "    else: episode_types.append(\"other\")\n",
    "    t2_iso = []\n",
    "    bc_iso = []\n",
    "    other_iso = []\n",
    "    \n",
    "    for isolate in episode.t2_sample.isolates:\n",
    "        t2_iso.append(isolate.name)\n",
    "\n",
    "    for sample in episode.bc_samples:\n",
    "        for isolate in sample.isolates:\n",
    "            bc_iso.append(isolate.name)\n",
    "    \n",
    "    for sample in episode.other_samples:\n",
    "        for isolate in sample.isolates:\n",
    "            other_iso.append(isolate.name)\n",
    "    \n",
    "    # Join isolates into a string separated by commas\n",
    "    t2_isolates.append(', '.join(set(t2_iso)))\n",
    "    bc_isolates.append(', '.join(set(bc_iso)))\n",
    "    other_isolates.append(', '.join(set(other_iso)))\n",
    "    bc_numbers.append(len(episode.bc_samples))\n",
    "    other_numbers.append(len(episode.other_samples))\n",
    "\n",
    "# Create DataFrame\n",
    "df_table = pd.DataFrame({\n",
    "    \"Episode type\": episode_types,\n",
    "    \"T2 isolates\": t2_isolates,\n",
    "    \"BC samples\": bc_numbers,\n",
    "    \"BC isolates\": bc_isolates,\n",
    "    \"Other samples\": other_numbers,\n",
    "    \"Other isolates\": other_isolates,\n",
    "})\n"
   ]
  },
  {
   "cell_type": "code",
   "execution_count": null,
   "id": "9fb84fa5",
   "metadata": {},
   "outputs": [],
   "source": [
    "# Create a dictionary of replacements\n",
    "replacements = {\n",
    "    \"Jästsvamp\": \"Yeast, unspecified\",\n",
    "    \"Betahemolyserande streptokock grupp G\": \"Group G streptococci\",\n",
    "    \"Koagulas-negativ stafylokock\": \"Coagulase negative staphylococci\",\n",
    "    \"Gramnegativ stav\": \"Gram-negative rod\",\n",
    "    \"Betahemolyserande streptokock grupp A\": \"Group A streptococci\",\n",
    "    \"Blandflora\": \"Mixed flora\",\n",
    "\n",
    "\n",
    "    # Add more replacements as needed\n",
    "}\n",
    "\n",
    "# List of columns to apply replacements in\n",
    "columns_to_update = ['T2 isolates', 'BC isolates', 'Other isolates']\n",
    "\n",
    "# Applying replacements across the specified columns\n",
    "for column in columns_to_update:\n",
    "    # Using regex=True allows for partial replacements within strings\n",
    "    df_table[column] = df_table[column].replace(replacements, regex=True)\n",
    "\n",
    "# This will update your DataFrame with all the specified replacements in the defined columns\n"
   ]
  },
  {
   "cell_type": "code",
   "execution_count": null,
   "id": "64d84840",
   "metadata": {},
   "outputs": [],
   "source": [
    "df_table[df_table[\"Episode type\"] == \"T2 pos, BC neg\"].to_excel(\"T2_pos_BC_neg.xlsx\", index=False)\n"
   ]
  },
  {
   "cell_type": "code",
   "execution_count": null,
   "id": "f222bf5a",
   "metadata": {},
   "outputs": [],
   "source": [
    "df_table[df_table[\"Episode type\"] == \"T2 neg, BC pos\"].to_excel(\"T2_neg_BC_pos.xlsx\", index=False)  "
   ]
  },
  {
   "cell_type": "code",
   "execution_count": null,
   "id": "f69f9ae1",
   "metadata": {},
   "outputs": [],
   "source": [
    "sample_time = []\n",
    "category = []\n",
    "for episode in episodes:\n",
    "    for bc_sample in episode.bc_samples:\n",
    "        time = (bc_sample.sample_date-episode.t2_sample.sample_date).total_seconds()/3600\n",
    "        sample_time.append(time)\n",
    "\n",
    "\n",
    "        if bc_sample.get_t2panel_isolates() == episode.t2_sample.isolates:\n",
    "            category.append('concordant')\n",
    "        elif bc_sample.get_t2panel_isolates() and not episode.t2_sample.isolates:\n",
    "            category.append('t2_neg_bc_pos')\n",
    "        elif not bc_sample.get_t2panel_isolates() and episode.t2_sample.isolates:\n",
    "            category.append('t2_pos_bc_neg')\n",
    "        else:\n",
    "            category.append('discordant_unclassified')\n",
    "            episode.display()\n",
    "            print(\"bc_samples---------------------------------------\")\n",
    "            bc_sample.display()\n",
    "        "
   ]
  },
  {
   "cell_type": "code",
   "execution_count": null,
   "id": "d7d5de0e",
   "metadata": {},
   "outputs": [],
   "source": []
  },
  {
   "cell_type": "code",
   "execution_count": null,
   "id": "1b4a113f",
   "metadata": {},
   "outputs": [],
   "source": [
    "data = pd.DataFrame({'time':sample_time, 'category':category})"
   ]
  },
  {
   "cell_type": "code",
   "execution_count": null,
   "id": "afa7d70c",
   "metadata": {},
   "outputs": [],
   "source": [
    "\n",
    "\n",
    "\n",
    "# Calculate the minimum and maximum to ensure all data is covered\n",
    "min_time = -bc_window\n",
    "max_time = bc_window\n",
    "\n",
    "bin_step = 12\n",
    "\n",
    "bin_start = min_time\n",
    "print(max_time)\n",
    "bin_edges = np.arange(bin_start-bin_step/2, max_time + bin_step,bin_step)\n",
    "# Adjust the last bin edge to fit exactly at max_time if necessary\n",
    "\n",
    "print(bin_edges[-1],bin_edges[0])\n",
    "bin_edges[-1] = max_time\n",
    "\n",
    "\n",
    "bin_edges[0] = min_time\n",
    "\n",
    "data['time_bin'] = pd.cut(data['time'], bins=bin_edges, right=False)  # right=False makes intervals left-closed, right-open\n",
    "\n",
    "# Check the bins created to ensure alignment\n",
    "print(bin_edges)\n",
    "print(data['time_bin'].unique())"
   ]
  },
  {
   "cell_type": "markdown",
   "id": "4ee56d05",
   "metadata": {},
   "source": [
    "## Main fig: sampling in relationship to T2"
   ]
  },
  {
   "cell_type": "code",
   "execution_count": null,
   "id": "10504d03",
   "metadata": {},
   "outputs": [],
   "source": [
    "\n",
    "# Count of each category within each bin\n",
    "data['formatted_time_bin'] = data['time_bin'].apply(Displayer.format_interval)\n",
    "count_data = data.groupby(['formatted_time_bin', 'category']).size().unstack(fill_value=0)\n",
    "\n",
    "# Total counts in each bin, including 'concordant'\n",
    "total_counts_per_bin = data.groupby('formatted_time_bin').size()\n",
    "# Convert counts to percentages\n",
    "\n",
    "percentage_data = count_data.divide(total_counts_per_bin, axis=0) * 100\n",
    "# Optionally, exclude 'concordant' from visualization\n",
    "percentage_data = percentage_data[['t2_neg_bc_pos', 't2_pos_bc_neg', 'discordant_unclassified']]\n",
    "summed_percentage = percentage_data.sum(axis=1)\n",
    "discordant_totals = count_data[['t2_neg_bc_pos', 't2_pos_bc_neg', 'discordant_unclassified']].sum(axis=1)\n",
    "\n",
    "\n",
    "# Plotting the data\n",
    "ax = percentage_data.plot(kind='bar', stacked=True, figsize=(10, 6), color=['#fc8d62', '#66c2a5', '#8da0cb'], edgecolor='black')\n",
    "\n",
    "# Setting labels and title with styling\n",
    "ax.set_xlabel(\"Time interval relative to T2 sampling (hours)\", fontsize=12, fontweight='bold',fontname='Arial')\n",
    "ax.set_ylabel(\"Proportion of all BCs sampled during interval\", fontsize=12, fontweight='bold',fontname='Arial')\n",
    "ax.set_title(\"Discordant samples in relationship to time from T2 sampling\", fontsize=14, fontweight='bold', fontname='Arial')\n",
    "\n",
    "# Customizing the tick labels\n",
    "plt.xticks(rotation=0, fontsize=9, ha='center',fontweight='bold',fontname='Arial')\n",
    "plt.yticks(fontsize=10, fontname='Arial')\n",
    "\n",
    "# Styling the legend\n",
    "legend = plt.legend(title='Discordant outcome', \n",
    "                    fontsize=10, title_fontsize='13', \n",
    "                    labels=['T2 Negative, BC Positive', 'T2 Positive, BC Negative', 'Other classified discordant result'] )\n",
    "\n",
    "\n",
    "\n",
    "# Optional: Customizing the grid\n",
    "ax.set_axisbelow(True)  # Ensure grid is below bar layers\n",
    "ax.yaxis.grid(True, color='gray', linestyle='dashed', linewidth=0.5)\n",
    "ax.yaxis.set_major_formatter(PercentFormatter(100))  # Format y-axis as percentages\n",
    "\n",
    "\n",
    "\n",
    "\n",
    "\n",
    "\n",
    "\n",
    "# Annotating the total counts above each bar stack\n",
    "for idx, (label, discordant_total) in enumerate(zip(percentage_data.index, discordant_totals)):\n",
    "    # Get the y-coordinate as the top of the bar stack (total percentage of discordant categories)\n",
    "    total_percentage = percentage_data.loc[label].sum()\n",
    "    # Place the annotation above the last segment of the bar stack\n",
    "    ax.annotate(f'{discordant_total}', xy=(idx, total_percentage), xytext=(0, 5), textcoords=\"offset points\",\n",
    "                ha='center', va='bottom', fontsize=9, color='black')\n",
    "# Show the plot\n",
    "plt.grid(False)\n",
    "plt.grid(axis='y', linestyle='--', linewidth=0.5)\n",
    "plt.tight_layout()  # Adjust subplots to give some padding\n",
    "panel_b = plt.gcf()\n",
    "plt.show()\n",
    "\n"
   ]
  },
  {
   "cell_type": "code",
   "execution_count": null,
   "id": "4abde8e6",
   "metadata": {},
   "outputs": [],
   "source": [
    "## Fig with counts instead of percentage\n",
    "\n",
    "# data['simplified_category'] = data['category'].apply(lambda x: 'Discordant' if x in ['t2_neg_bc_pos', 't2_pos_bc_neg', 'discordant_unclassified'] else x)\n",
    "# # Now group by this new category along with the time_bin\n",
    "# data['formatted_time_bin'] = data['time_bin'].apply(Displayer.format_interval)\n",
    "# grouped_data = data.groupby(['formatted_time_bin', 'simplified_category']).size().unstack(fill_value=0)\n",
    "\n",
    "\n",
    "# # Plotting the data\n",
    "# fig, ax = plt.subplots(figsize=(10, 6))\n",
    "# grouped_data.plot(kind='bar', stacked=True, color=['black','white'], ax=ax, edgecolor='black')\n",
    "\n",
    "# # Setting labels and title with styling\n",
    "# ax.set_xlabel(\"Time period relative to T2 sampling (interval of hours)\", fontsize=12, fontweight='bold',fontname='Arial')\n",
    "# ax.set_ylabel(\"BCs sampled\", fontsize=12, fontweight='bold',fontname='Arial')\n",
    "# ax.set_title(\"Blood cultures sampled in relationship to T2 sampling\", fontsize=14, fontweight='bold', color='black', fontname='Arial')\n",
    "\n",
    "# # Customizing the tick labels\n",
    "# plt.xticks(rotation=0, fontsize=8, ha='center')\n",
    "# plt.yticks(fontsize=10)\n",
    "# plt.legend(title='BC outcome', fontsize=10, title_fontsize='13', loc='upper right', labels=['Discordant','Concordant'], reverse = True)\n",
    "\n",
    "# # Customizing the grid\n",
    "# ax.set_axisbelow(True)  # Ensure grid is below bar layers\n",
    "# ax.yaxis.grid(True, color='gray', linestyle='dashed', linewidth=0.5)\n",
    "\n",
    "# # Annotating the total counts above each bar\n",
    "# for idx, value in enumerate(total_counts_per_bin):\n",
    "#     ax.annotate(f'{value}', xy=(idx, value), xytext=(0,3), textcoords=\"offset points\",\n",
    "#                 ha='center', va='bottom', fontsize=9, color='black')\n",
    "\n",
    "# # Show the plot\n",
    "# plt.tight_layout()  # Adjust subplots to give some padding\n",
    "\n",
    "# plt.show()\n"
   ]
  },
  {
   "cell_type": "code",
   "execution_count": null,
   "id": "2e891e07",
   "metadata": {},
   "outputs": [],
   "source": [
    "# Assuming 'data' is already defined and includes 'category' and 'time_bin' columns\n",
    "\n",
    "# Simplifying the category\n",
    "data['simplified_category'] = data['category'].apply(lambda x: 'Discordant' if x in ['t2_neg_bc_pos', 't2_pos_bc_neg', 'discordant_unclassified'] else x)\n",
    "\n",
    "# Formatting the time bins (Assuming Displayer.format_interval is defined)\n",
    "data['formatted_time_bin'] = data['time_bin'].apply(Displayer.format_interval)\n",
    "\n",
    "# Group by the new category and formatted time_bin, then normalize\n",
    "grouped_data = data.groupby(['formatted_time_bin', 'simplified_category']).size().unstack(fill_value=0)\n",
    "normalized_grouped_data = grouped_data.divide(len(data))  # Normalize to total count to show proportions\n",
    "\n",
    "# Plotting the normalized data\n",
    "fig, ax = plt.subplots(figsize=(10, 6))\n",
    "normalized_grouped_data.plot(kind='bar', stacked=True, color=['black','white'], ax=ax, edgecolor='black')\n",
    "\n",
    "# Setting labels and title with styling\n",
    "ax.set_xlabel('Time interval relative to T2 sampling (hours)', fontsize=12, fontweight='bold', fontname='Arial')\n",
    "ax.set_ylabel(\"Proportion of total samples\", fontsize=12, fontweight='bold', fontname='Arial')\n",
    "ax.set_title(\"Blood cultures sampled in relation to time of T2 sampling\", fontsize=14, fontweight='bold', color='black', fontname='Arial')\n",
    "\n",
    "# Customizing the tick labels and grid\n",
    "plt.xticks(rotation=0, fontsize=9, ha='center', fontweight='bold', fontname='Arial')\n",
    "plt.yticks(fontsize=10, fontname='Arial')\n",
    "ax.yaxis.set_major_formatter(PercentFormatter(1))  # Format y-axis as percentages\n",
    "\n",
    "plt.legend(title='BC outcome', fontsize=10, title_fontsize='13', loc='upper right', labels=['Discordant', 'Concordant'], reverse=True)\n",
    "ax.set_axisbelow(True)\n",
    "ax.yaxis.grid(True, color='gray', linestyle='dashed', linewidth=0.5)\n",
    "\n",
    "# Annotating the total counts above each bar\n",
    "total_counts_per_bin = grouped_data.sum(axis=1)  # Total counts per bin\n",
    "for idx, count in enumerate(total_counts_per_bin):\n",
    "    ax.annotate(f'{int(count)}', xy=(idx, normalized_grouped_data.iloc[idx].sum()), xytext=(0, 3),\n",
    "                textcoords=\"offset points\", ha='center', va='bottom', fontsize=9, color='black')\n",
    "plt.grid(False)\n",
    "plt.grid(axis='y', linestyle='--', linewidth=0.5)\n",
    "plt.tight_layout()\n",
    "panel_a = plt.gcf()\n",
    "plt.show()\n"
   ]
  },
  {
   "cell_type": "code",
   "execution_count": null,
   "id": "333f817b",
   "metadata": {},
   "outputs": [],
   "source": [
    "#Plotter.saveplot_tofile(panel_a, name = \"panel_a\", format = \"svg\")\n",
    "Plotter.saveplot_tofile(panel_b, name = \"panel_b\", format = \"svg\")"
   ]
  },
  {
   "cell_type": "code",
   "execution_count": null,
   "id": "c3b42232",
   "metadata": {},
   "outputs": [],
   "source": [
    "data = pd.DataFrame({\n",
    "    'Concordance': concordance,\n",
    "    'TimeDiff': time_diff\n",
    "})\n",
    "sns.histplot(data=data, x='TimeDiff', hue='Concordance', element='step', stat='count', common_norm=False)\n",
    "plt.title('Distribution of time difference between BC and T2 samples depending on concordance')\n",
    "plt.xlabel('Time Difference (hours)')\n",
    "plt.ylabel('Percentage of episodes')\n",
    "plt.legend(title='Classification', labels=['Concordant', 'Discordant'])\n",
    "plt.show()"
   ]
  },
  {
   "cell_type": "code",
   "execution_count": null,
   "id": "74357ca4",
   "metadata": {},
   "outputs": [],
   "source": [
    "plt.boxplot([np.array(time_diff)[np.array(concordance)], np.array(time_diff)[~np.array(concordance)]], labels=['Concordant', 'Discordant'])\n",
    "plt.title('Time Differences by Concordance Status')\n",
    "plt.xlabel('Concordance')\n",
    "plt.ylabel('Time Difference (hours)')\n",
    "plt.show()\n"
   ]
  },
  {
   "cell_type": "code",
   "execution_count": null,
   "id": "983cd1a3",
   "metadata": {},
   "outputs": [],
   "source": [
    "group1 = data[data['Concordance'] == True]['TimeDiff']\n",
    "group2 = data[data['Concordance'] == False]['TimeDiff']\n",
    "\n",
    "# Performing the Mann-Whitney U test\n",
    "u_stat, p_value = stats.mannwhitneyu(group1, group2, alternative='two-sided')\n",
    "\n",
    "print(f\"Mann-Whitney U test result: U-statistic = {u_stat}, P-value = {p_value}\")\n"
   ]
  },
  {
   "cell_type": "markdown",
   "id": "655655af",
   "metadata": {},
   "source": [
    "## Main fig: Difference in total turn around time for positive and negative T2"
   ]
  },
  {
   "cell_type": "code",
   "execution_count": null,
   "id": "dc5f711a",
   "metadata": {},
   "outputs": [],
   "source": [
    "t2_samples = []\n",
    "\n",
    "for episode in episodes:\n",
    "    t2_samples.append(episode.t2_sample)\n"
   ]
  },
  {
   "cell_type": "code",
   "execution_count": null,
   "id": "047f40a8",
   "metadata": {},
   "outputs": [],
   "source": [
    "\n",
    "times = np.array([(sample.final_report_date - sample.sample_date) for sample in t2_samples])\n",
    "contains_isolates = np.array([bool(sample.isolates) for sample in t2_samples])\n",
    "time_hours = np.array([time.total_seconds() / 3600 for time in times] )\n"
   ]
  },
  {
   "cell_type": "code",
   "execution_count": null,
   "id": "6ce2f53a",
   "metadata": {},
   "outputs": [],
   "source": [
    "# Add intercept\n",
    "time_hours_with_intercept = sm.add_constant(time_hours)\n",
    "\n",
    "# Create logistic model and fit it\n",
    "model = sm.Logit(contains_isolates, time_hours_with_intercept)\n",
    "result = model.fit()\n",
    "\n",
    "# Generate a sequence of time values over a wider range for plotting\n",
    "time_values = np.linspace(time_hours.min() - 1, time_hours.max() + 1, 300)\n",
    "time_values_with_intercept = sm.add_constant(time_values)\n",
    "\n",
    "# Predict probabilities for the generated time values\n",
    "predicted_probabilities = result.predict(time_values_with_intercept)\n",
    "# Print the summary of the model\n",
    "print(result.summary())\n",
    "\n",
    "# Make predictions (probabilities)\n",
    "predictions = result.predict(time_hours_with_intercept)\n",
    "print(\"Predicted probabilities:\", predictions)\n",
    "\n",
    "# Plotting\n",
    "plt.figure(figsize=(8, 5))\n",
    "plt.scatter(time_hours, contains_isolates, color='blue', label='Data Points', zorder=2)\n",
    "plt.plot(time_values, predicted_probabilities, color='red', label='Logistic Regression', linewidth=2)\n",
    "plt.title('Logistic Regression Fit')\n",
    "plt.xlabel('Time in Hours')\n",
    "plt.ylabel('Probability of Containing Isolates')\n",
    "plt.ylim(-0.1, 1.1)  # Extend y-axis to better see the bounds\n",
    "plt.legend()\n",
    "plt.grid(True)\n",
    "plt.show()"
   ]
  },
  {
   "cell_type": "code",
   "execution_count": null,
   "id": "89f6d98b",
   "metadata": {},
   "outputs": [],
   "source": [
    "time_hours = np.array(time_hours)\n",
    "test_transform = np.log(time_hours)\n",
    "\n",
    "testxx=np.random.normal(0, 1, 1000)"
   ]
  },
  {
   "cell_type": "code",
   "execution_count": null,
   "id": "b462a123",
   "metadata": {},
   "outputs": [],
   "source": [
    "plt.hist(time_hours, bins=20)   "
   ]
  },
  {
   "cell_type": "code",
   "execution_count": null,
   "id": "022760b3",
   "metadata": {},
   "outputs": [],
   "source": [
    "plt.hist(time_hours, bins=20)   "
   ]
  },
  {
   "cell_type": "code",
   "execution_count": null,
   "id": "5559e7bc",
   "metadata": {},
   "outputs": [],
   "source": [
    "import matplotlib.pyplot as plt\n",
    "import scipy.stats as stats \n",
    "import statsmodels.api as sm"
   ]
  },
  {
   "cell_type": "code",
   "execution_count": null,
   "id": "777728a8",
   "metadata": {},
   "outputs": [],
   "source": [
    "# Compute the CDFs for positive and negative samples\n",
    "cdf_positive = np.sort(positive_samples_time)\n",
    "cdf_negative = np.sort(negative_samples_time)\n",
    "\n",
    "# Calculate the cumulative probability for each sorted list\n",
    "prob_positive = np.arange(1, len(cdf_positive) + 1) / len(cdf_positive)\n",
    "prob_negative = np.arange(1, len(cdf_negative) + 1) / len(cdf_negative)\n",
    "\n",
    "# Plot the CDFs\n",
    "plt.figure(figsize=(14, 6))\n",
    "plt.subplot(1, 2, 1)\n",
    "plt.plot(cdf_positive, prob_positive, marker='.', linestyle='none', color='green')\n",
    "plt.title('CDF for Positive Samples')\n",
    "plt.xlabel('Time in Hours')\n",
    "plt.ylabel('CDF')\n",
    "\n",
    "plt.subplot(1, 2, 2)\n",
    "plt.plot(cdf_negative, prob_negative, marker='.', linestyle='none', color='red')\n",
    "plt.title('CDF for Negative Samples')\n",
    "plt.xlabel('Time in Hours')\n",
    "plt.ylabel('CDF')\n",
    "\n",
    "plt.tight_layout()\n",
    "plt.show()"
   ]
  },
  {
   "cell_type": "code",
   "execution_count": null,
   "id": "cd421bad",
   "metadata": {},
   "outputs": [],
   "source": [
    "plt.scatter(time_hours, contains_isolates)"
   ]
  },
  {
   "cell_type": "code",
   "execution_count": null,
   "id": "d8d12df3",
   "metadata": {},
   "outputs": [],
   "source": [
    "\n",
    "plt.hist(time_hours, bins = 20)"
   ]
  },
  {
   "cell_type": "markdown",
   "id": "71959a16-c273-4466-9492-af718893064f",
   "metadata": {
    "editable": true,
    "slideshow": {
     "slide_type": ""
    },
    "tags": []
   },
   "source": [
    "## Plots for processing time"
   ]
  },
  {
   "cell_type": "code",
   "execution_count": null,
   "id": "a1ab11a9",
   "metadata": {},
   "outputs": [],
   "source": [
    "# Assuming time_hours and contains_isolates are defined\n",
    "data = pd.DataFrame({\n",
    "    'TimeHours': time_hours,\n",
    "    'ContainsIsolates': contains_isolates\n",
    "})\n",
    "\n",
    "# Create the FacetGrid\n",
    "g = sns.FacetGrid(data, col=\"ContainsIsolates\", height=6, aspect=1, sharey=True, sharex=True)\n",
    "g.map_dataframe(sns.histplot, x='TimeHours', bins=60, stat='percent', common_norm=False, color='m', alpha=0.7)\n",
    "\n",
    "# Dictionary for custom titles\n",
    "title_dict = {True: 'T2 positive', False: 'T2 negative'}\n",
    "\n",
    "# Applying custom labels\n",
    "for ax, col_val in zip(g.axes.flatten(), data['ContainsIsolates'].unique()):\n",
    "    # Ensure we use the actual boolean values as keys\n",
    "    ax.set_title(title_dict[col_val], fontname = 'Arial')\n",
    "g.tight_layout()\n",
    "# Setting axis labels and adjusting layout\n",
    "g.set_axis_labels(\"Time in Hours\", \"Percentage\",fontname = 'Arial')\n",
    "g.figure.subplots_adjust(top=0.85)  # Adjust the Figure to make room for the main title\n",
    "g.figure.suptitle('Total Turnaround Time for T2 Samples', fontsize=16, fontname = 'Arial')  # Main title\n",
    "\n",
    "# Show the plots\n",
    "plt.show()"
   ]
  },
  {
   "cell_type": "markdown",
   "id": "764214c2",
   "metadata": {},
   "source": [
    "## Main fig: Distributions of times T2 pos/neg"
   ]
  },
  {
   "cell_type": "code",
   "execution_count": null,
   "id": "fb2a4098",
   "metadata": {},
   "outputs": [],
   "source": [
    "# Assuming time_hours and contains_isolates are defined\n",
    "data = pd.DataFrame({\n",
    "    'TimeHours': time_hours,\n",
    "    'ContainsIsolates': contains_isolates\n",
    "})\n",
    "\n",
    "# Bin the data into hourly intervals\n",
    "data['TimeBin'] = pd.cut(data['TimeHours'], bins=np.arange(0, 100, 2), right=False)\n",
    "\n",
    "# Create a summary DataFrame\n",
    "summary_data = data.groupby(['TimeBin', 'ContainsIsolates']).size().reset_index(name='Counts')\n",
    "summary_data = summary_data.pivot(index='TimeBin', columns='ContainsIsolates', values='Counts').fillna(0)\n",
    "\n",
    "# Total counts for each category (from your specification)\n",
    "total_positive_samples = 75\n",
    "total_negative_samples = 565\n",
    "\n",
    "# Normalize the counts to percentages of their total sample sizes\n",
    "summary_data[True] = (summary_data[True] / total_positive_samples) * 100\n",
    "summary_data[False] = (summary_data[False] / total_negative_samples) * 100\n",
    "\n",
    "# Plotting the normalized clustered bar chart\n",
    "fig, ax = plt.subplots(figsize=(12, 6))\n",
    "bar_width = 0.35  # width of bars\n",
    "\n",
    "# Create index for the grouped bar chart\n",
    "index = np.arange(len(summary_data))\n",
    "bar1 = ax.bar(index - bar_width/2, summary_data[True], bar_width, label='T2 positive', color='#fc8d62', edgecolor='black')\n",
    "bar2 = ax.bar(index + bar_width/2, summary_data[False], bar_width, label='T2 negative', color='w', edgecolor='black')\n",
    "\n",
    "# Customize the plot\n",
    "ax.set_xlabel('Time in hours', fontsize=14, fontname='Arial',fontweight='bold')\n",
    "ax.set_ylabel('Percentage of total in each category', fontsize=14, fontname='Arial',fontweight='bold')\n",
    "ax.set_title('Distribution of turn-around time for T2', fontsize=16, fontname='Arial', fontweight='bold')\n",
    "ax.set_xticks(index)\n",
    "ax.set_xticklabels([str(x.left) + \"-\" + str(x.right) for x in summary_data.index], rotation=45, fontname='Arial')\n",
    "ax.legend()\n",
    "ax.yaxis.set_major_formatter(PercentFormatter(100))  # Format y-axis as percentages\n",
    "\n",
    "plt.grid(False)\n",
    "plt.grid(axis='y', linestyle='--', alpha=0.7)\n",
    "\n",
    "plt.tight_layout()\n",
    "tat_pos_neg = plt.gcf()\n",
    "plt.show()"
   ]
  },
  {
   "cell_type": "code",
   "execution_count": null,
   "id": "6486541f",
   "metadata": {},
   "outputs": [],
   "source": [
    "Plotter.saveplot_tofile(tat_pos_neg, name = \"tat_pos_neg\", format = \"svg\")"
   ]
  },
  {
   "cell_type": "code",
   "execution_count": null,
   "id": "79baace2",
   "metadata": {},
   "outputs": [],
   "source": [
    "positive_samples = data[data['ContainsIsolates'] == True]\n",
    "negative_samples = data[data['ContainsIsolates'] == False]"
   ]
  },
  {
   "cell_type": "code",
   "execution_count": null,
   "id": "b20de429",
   "metadata": {},
   "outputs": [],
   "source": []
  },
  {
   "cell_type": "code",
   "execution_count": null,
   "id": "0f574748",
   "metadata": {},
   "outputs": [],
   "source": [
    "positive_samples_time = positive_samples['TimeHours']\n",
    "negative_samples_time = negative_samples['TimeHours']\n",
    "\n",
    "q1_positive = np.percentile(positive_samples_time, 25)\n",
    "q3_positive = np.percentile(positive_samples_time, 75)\n",
    "iqr_positive = q3_positive - q1_positive\n",
    "\n",
    "# Calculate the interquartile range for negative_samples_time\n",
    "q1_negative = np.percentile(negative_samples_time, 25)\n",
    "q3_negative = np.percentile(negative_samples_time, 75)\n",
    "iqr_negative = q3_negative - q1_negative\n",
    "\n",
    "print(\"median positive:\",np.median(positive_samples_time),\"negative:\", np.median(negative_samples_time))\n",
    "print(\"IQR positive:\",iqr_positive,\"negative:\", iqr_negative,\"q1 positive:\",q1_positive,\"q3 positive:\",q3_positive,\"q1 negative:\",q1_negative,\"q3 negative:\",q3_negative)\n",
    "print(\"mean positive:\",np.mean(positive_samples_time),\"mean negative:\", np.mean(negative_samples_time))\n",
    "\n",
    "# Perform the Mann-Whitney U test\n",
    "u_statistic, p_value_mann = stats.mannwhitneyu(positive_samples_time, negative_samples_time, alternative='two-sided')\n",
    "t_statistic, p_value_t = stats.ttest_ind(positive_samples_time, negative_samples_time, equal_var=False)\n",
    "print(f\"Mann-Whitney U test result: U-statistic = {u_statistic}, P-value = {p_value_mann}\")\n",
    "print(f\"t-test result: t-statistic = {t_statistic}, P-value = {p_value_t}\")"
   ]
  },
  {
   "cell_type": "code",
   "execution_count": null,
   "id": "280d9f4e",
   "metadata": {},
   "outputs": [],
   "source": [
    "plt.figure(figsize=(8, 6))\n",
    "plt.boxplot([positive_samples_time, negative_samples_time], labels=['Positive', 'Negative'])\n",
    "plt.title('Boxplot of Processing Times')\n",
    "plt.ylabel('Time in Hours')\n",
    "plt.show()\n"
   ]
  },
  {
   "cell_type": "code",
   "execution_count": null,
   "id": "51564744",
   "metadata": {},
   "outputs": [],
   "source": [
    "sample_ids = range(len(time_hours))  # Assuming sequential identifiers for samples\n",
    "\n",
    "plt.figure(figsize=(10, 6))\n",
    "plt.scatter(sample_ids, time_hours, c=contains_isolates, cmap='viridis')\n",
    "plt.colorbar(ticks=[0, 1], label='Isolates Present (0 = No, 1 = Yes)')\n",
    "plt.title('Scatter Plot of Processing Times by Sample')\n",
    "plt.xlabel('Sample ID')\n",
    "plt.ylabel('Time in Hours')\n",
    "plt.show()\n"
   ]
  },
  {
   "cell_type": "code",
   "execution_count": null,
   "id": "44df7d3e",
   "metadata": {},
   "outputs": [],
   "source": [
    "plt.figure(figsize=(8, 6))\n",
    "plt.violinplot([positive_samples_time, negative_samples_time])\n",
    "plt.xticks([1, 2], ['Positive', 'Negative'])\n",
    "plt.title('Violin Plot of Processing Times')\n",
    "plt.ylabel('Time in Hours')\n",
    "plt.show()\n"
   ]
  },
  {
   "cell_type": "code",
   "execution_count": null,
   "id": "e4fab7b1",
   "metadata": {},
   "outputs": [],
   "source": []
  },
  {
   "cell_type": "code",
   "execution_count": null,
   "id": "cfa296ef-7e65-4600-94e5-110ad0a473cd",
   "metadata": {},
   "outputs": [],
   "source": [
    "plotter.check_distribution(\"NORMAL\")"
   ]
  },
  {
   "cell_type": "markdown",
   "id": "7607bcd7",
   "metadata": {},
   "source": [
    "## Main fig : TAT BC - T2"
   ]
  },
  {
   "cell_type": "code",
   "execution_count": null,
   "id": "9de1f52f-cc57-4653-b487-7d93647aab65",
   "metadata": {
    "editable": true,
    "slideshow": {
     "slide_type": ""
    },
    "tags": []
   },
   "outputs": [],
   "source": [
    "plot3 = plotter.tat_boxplot()"
   ]
  },
  {
   "cell_type": "code",
   "execution_count": null,
   "id": "143d687b-4846-482a-a1e3-bd55be012bcd",
   "metadata": {
    "editable": true,
    "slideshow": {
     "slide_type": ""
    },
    "tags": []
   },
   "outputs": [],
   "source": [
    "for i, fig in enumerate(plot3):\n",
    "    Plotter.saveplot_tofile(fig, f'Fig2_subplot{i+1}',\"svg\")"
   ]
  },
  {
   "cell_type": "code",
   "execution_count": null,
   "id": "a4140dba-411f-4b2f-933a-bab55b2e1669",
   "metadata": {
    "editable": true,
    "slideshow": {
     "slide_type": ""
    },
    "tags": []
   },
   "outputs": [],
   "source": [
    "plotter.tat_distributions()"
   ]
  },
  {
   "cell_type": "code",
   "execution_count": null,
   "id": "0ecaa169-68e5-49f9-a592-d382409ee12c",
   "metadata": {
    "editable": true,
    "slideshow": {
     "slide_type": ""
    },
    "tags": []
   },
   "outputs": [],
   "source": [
    "venn = plotter.plot_venn(\"BC_IN_PANEL\")"
   ]
  },
  {
   "cell_type": "code",
   "execution_count": null,
   "id": "853739c8-99df-4358-ad84-f966849e2793",
   "metadata": {},
   "outputs": [],
   "source": [
    "Plotter.saveplot_tofile(venn, name = \"venn_all_bc\", format = \"svg\")"
   ]
  },
  {
   "cell_type": "code",
   "execution_count": null,
   "id": "bae24460-9592-4fec-8966-7fd21182f91c",
   "metadata": {},
   "outputs": [],
   "source": [
    "venn_legend = plotter.plot_bacteria_occurrences()"
   ]
  },
  {
   "cell_type": "code",
   "execution_count": null,
   "id": "7099cc3f-13ac-4717-b02c-08e164bb1370",
   "metadata": {},
   "outputs": [],
   "source": [
    "for i, fig in enumerate(venn_legend):\n",
    "    Plotter.saveplot_tofile(fig, f'Venn_legend{i+1}',\"svg\")"
   ]
  },
  {
   "cell_type": "code",
   "execution_count": null,
   "id": "ae233807-1b02-490e-bfa2-4aeb57d7a6b5",
   "metadata": {},
   "outputs": [],
   "source": [
    "plotter.show_time_between_BC_T2()"
   ]
  },
  {
   "cell_type": "markdown",
   "id": "75e730d3",
   "metadata": {},
   "source": [
    "## Main Fig: weekdays etc\n",
    " \n"
   ]
  },
  {
   "cell_type": "code",
   "execution_count": null,
   "id": "54bc4b99-9b8b-47fb-8545-bbc962800831",
   "metadata": {},
   "outputs": [],
   "source": [
    "tat_duty = plotter.plot_tat_by_time(sample_type=\"t2\", time_type=\"arrival\", result_category=\"all\")"
   ]
  },
  {
   "cell_type": "code",
   "execution_count": null,
   "id": "98c0db91",
   "metadata": {},
   "outputs": [],
   "source": [
    "tat_duty.savefig(\"tat_duty1.svg\", format = \"svg\", bbox_inches = 'tight')"
   ]
  },
  {
   "cell_type": "code",
   "execution_count": null,
   "id": "83e1db7d",
   "metadata": {},
   "outputs": [],
   "source": [
    "Plotter.saveplot_tofile(tat_duty, name=\"tat_duty\", format = \"svg\")"
   ]
  },
  {
   "cell_type": "code",
   "execution_count": null,
   "id": "08605ed7",
   "metadata": {},
   "outputs": [],
   "source": [
    "type(tat_duty)"
   ]
  },
  {
   "cell_type": "code",
   "execution_count": null,
   "id": "18e1efcb-6f26-4b55-b795-1e971172d8c7",
   "metadata": {
    "editable": true,
    "slideshow": {
     "slide_type": ""
    },
    "tags": []
   },
   "outputs": [],
   "source": [
    "plot_2 = plotter.plot_longitudinal(positive=True) "
   ]
  },
  {
   "cell_type": "code",
   "execution_count": null,
   "id": "24eba461-0ecb-41aa-9680-2c39bf4276db",
   "metadata": {},
   "outputs": [],
   "source": [
    "print(type(plot_2))"
   ]
  },
  {
   "cell_type": "code",
   "execution_count": null,
   "id": "9d4d6a44-4ddd-4f74-9ab2-f30d7ed8dd62",
   "metadata": {},
   "outputs": [],
   "source": [
    "Plotter.saveplot_tofile(plot_2, \"Fig2\")"
   ]
  },
  {
   "cell_type": "code",
   "execution_count": null,
   "id": "9e6756bf-a877-4bcd-b863-2d5052a68294",
   "metadata": {
    "editable": true,
    "slideshow": {
     "slide_type": ""
    },
    "tags": []
   },
   "outputs": [],
   "source": [
    "plotter.plot_longitudinal(positive=False)"
   ]
  },
  {
   "cell_type": "code",
   "execution_count": null,
   "id": "5717b3bd-89ff-4444-9719-db89a45d67a4",
   "metadata": {
    "editable": true,
    "slideshow": {
     "slide_type": ""
    },
    "tags": []
   },
   "outputs": [],
   "source": [
    "displayer.tat_differences(4, \"ARRIVAL\")"
   ]
  },
  {
   "cell_type": "code",
   "execution_count": null,
   "id": "e6e40434-3735-4240-bf0c-ad4a104ff595",
   "metadata": {},
   "outputs": [],
   "source": [
    "displayer.tat_df()"
   ]
  }
 ],
 "metadata": {
  "kernelspec": {
   "display_name": "Python 3 (ipykernel)",
   "language": "python",
   "name": "python3"
  },
  "language_info": {
   "codemirror_mode": {
    "name": "ipython",
    "version": 3
   },
   "file_extension": ".py",
   "mimetype": "text/x-python",
   "name": "python",
   "nbconvert_exporter": "python",
   "pygments_lexer": "ipython3",
   "version": "3.12.0"
  }
 },
 "nbformat": 4,
 "nbformat_minor": 5
}
